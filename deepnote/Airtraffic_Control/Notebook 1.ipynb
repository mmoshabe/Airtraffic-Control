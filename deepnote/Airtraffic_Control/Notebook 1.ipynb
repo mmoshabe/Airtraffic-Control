{
  "cells": [
    {
      "cell_type": "code",
      "metadata": {
        "source_hash": "a42730d5",
        "execution_start": 1746700399443,
        "execution_millis": 170769,
        "execution_context_id": "aff7f003-35a9-4971-91d2-82435f9bcff2",
        "cell_id": "9437f839b6ed4df08458d97e283932d3",
        "deepnote_cell_type": "code"
      },
      "source": "# In R, install and load the 'forecast' package correctly.\ninstall.packages(\"forecast\", dependencies = TRUE)\n\n# First, check if the 'forecast' package is installed. If not, install it.\nif (!require(\"forecast\")) {\n  install.packages(\"forecast\", dependencies = TRUE)\n  library(forecast)\n} else {\n  library(forecast)\n}\n\n# Ensure there is enough data for decomposition\nif (length(df$AQI) >= 14) {  # At least two weeks of data for weekly seasonality\n  ts_data <- ts(df$AQI, frequency = 7)  # Weekly seasonality for daily data\n  decomposed <- stl(ts_data, s.window = \"periodic\")\n  autoplot(decomposed)\n} else {\n  cat(\"Not enough data for STL decomposition with weekly seasonality.\\n\")\n}",
      "block_group": "9437f839b6ed4df08458d97e283932d3",
      "execution_count": 1,
      "outputs": [
        {
          "name": "stderr",
          "text": "Installing package into ‘/usr/local/lib/R/site-library’\n(as ‘lib’ is unspecified)\n\nalso installing the dependencies ‘TTR’, ‘quadprog’, ‘quantmod’, ‘x13binary’, ‘colorspace’, ‘fracdiff’, ‘lmtest’, ‘timeDate’, ‘tseries’, ‘urca’, ‘RcppArmadillo’, ‘forecTheta’, ‘rticles’, ‘seasonal’, ‘uroot’\n\n\nWarning message in install.packages(\"forecast\", dependencies = TRUE):\n“installation of package ‘tseries’ had non-zero exit status”\nWarning message in install.packages(\"forecast\", dependencies = TRUE):\n“installation of package ‘forecast’ had non-zero exit status”\nWarning message in install.packages(\"forecast\", dependencies = TRUE):\n“installation of package ‘forecTheta’ had non-zero exit status”\nLoading required package: forecast\n\nWarning message in library(package, lib.loc = lib.loc, character.only = TRUE, logical.return = TRUE, :\n“there is no package called ‘forecast’”\nInstalling package into ‘/usr/local/lib/R/site-library’\n(as ‘lib’ is unspecified)\n\nalso installing the dependencies ‘tseries’, ‘forecTheta’\n\n\nWarning message in install.packages(\"forecast\", dependencies = TRUE):\n“installation of package ‘forecast’ had non-zero exit status”\nWarning message in install.packages(\"forecast\", dependencies = TRUE):\n“installation of package ‘forecTheta’ had non-zero exit status”\n",
          "output_type": "stream"
        },
        {
          "output_type": "error",
          "ename": "ERROR",
          "evalue": "Error in library(forecast): there is no package called ‘forecast’\n",
          "traceback": [
            "Error in library(forecast): there is no package called ‘forecast’\nTraceback:\n",
            "1. stop(packageNotFoundError(package, lib.loc, sys.call()))"
          ]
        }
      ],
      "outputs_reference": null,
      "content_dependencies": null
    },
    {
      "cell_type": "markdown",
      "source": "<a style='text-decoration:none;line-height:16px;display:flex;color:#5B5B62;padding:10px;justify-content:end;' href='https://deepnote.com?utm_source=created-in-deepnote-cell&projectId=360ce8b9-ca56-4969-a7c6-2b4d3b309009' target=\"_blank\">\n<img alt='Created in deepnote.com' style='display:inline;max-height:16px;margin:0px;margin-right:7.5px;' src='data:image/svg+xml;base64,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' > </img>\nCreated in <span style='font-weight:600;margin-left:4px;'>Deepnote</span></a>",
      "metadata": {
        "created_in_deepnote_cell": true,
        "deepnote_cell_type": "markdown"
      }
    }
  ],
  "nbformat": 4,
  "nbformat_minor": 0,
  "metadata": {
    "deepnote_notebook_id": "285c0e0dec48403f9f5936701a18e72a"
  }
}