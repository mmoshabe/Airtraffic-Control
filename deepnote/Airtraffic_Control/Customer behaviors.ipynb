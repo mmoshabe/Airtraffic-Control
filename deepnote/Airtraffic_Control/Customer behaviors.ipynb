{
  "cells": [
    {
      "cell_type": "code",
      "metadata": {
        "source_hash": "30de47a6",
        "execution_start": 1746607895859,
        "execution_millis": 6747,
        "execution_context_id": "3851b718-8248-4c45-97ee-dd2a7150cd4f",
        "cell_id": "0d5763a54d1347ecb2f3c5bc31cf22f9",
        "deepnote_cell_type": "code"
      },
      "source": "!pip install --upgrade pip\n!pip install openpyxl",
      "block_group": "8d6ff2381d2948488bafdafbc4e2c8e2",
      "execution_count": 1,
      "outputs": [
        {
          "name": "stdout",
          "text": "Requirement already satisfied: pip in /root/venv/lib/python3.10/site-packages (23.0.1)\nCollecting pip\n  Downloading pip-25.1.1-py3-none-any.whl (1.8 MB)\n\u001b[2K     \u001b[90m━━━━━━━━━━━━━━━━━━━━━━━━━━━━━━━━━━━━━━━━\u001b[0m \u001b[32m1.8/1.8 MB\u001b[0m \u001b[31m54.8 MB/s\u001b[0m eta \u001b[36m0:00:00\u001b[0m\n\u001b[?25hInstalling collected packages: pip\n  Attempting uninstall: pip\n    Found existing installation: pip 23.0.1\n    Uninstalling pip-23.0.1:\n      Successfully uninstalled pip-23.0.1\nSuccessfully installed pip-25.1.1\nCollecting openpyxl\n  Downloading openpyxl-3.1.5-py2.py3-none-any.whl.metadata (2.5 kB)\nCollecting et-xmlfile (from openpyxl)\n  Downloading et_xmlfile-2.0.0-py3-none-any.whl.metadata (2.7 kB)\nDownloading openpyxl-3.1.5-py2.py3-none-any.whl (250 kB)\nDownloading et_xmlfile-2.0.0-py3-none-any.whl (18 kB)\nInstalling collected packages: et-xmlfile, openpyxl\n\u001b[2K   \u001b[90m━━━━━━━━━━━━━━━━━━━━━━━━━━━━━━━━━━━━━━━━\u001b[0m \u001b[32m2/2\u001b[0m [openpyxl]\n\u001b[1A\u001b[2KSuccessfully installed et-xmlfile-2.0.0 openpyxl-3.1.5\n",
          "output_type": "stream"
        }
      ],
      "outputs_reference": null,
      "content_dependencies": null
    },
    {
      "cell_type": "code",
      "metadata": {
        "source_hash": "5d25e5cd",
        "execution_start": 1746607902659,
        "execution_millis": 710,
        "execution_context_id": "3851b718-8248-4c45-97ee-dd2a7150cd4f",
        "cell_id": "ca31d1acd65f431b9259c1c81101756b",
        "deepnote_cell_type": "code"
      },
      "source": "import pandas as pd\n\ncustomers = pd.read_csv('Customer Behavior/Customers.csv')\nproducts = pd.read_csv('Customer Behavior/Products.csv')\norders = pd.read_csv('Customer Behavior/Orders.csv')\norderdetails = pd.read_csv('Customer Behavior/OrderDetails.csv')",
      "block_group": "6ed2eb5d0c7f4f8e81bc7f502efd0341",
      "execution_count": 2,
      "outputs": [],
      "outputs_reference": null,
      "content_dependencies": null
    },
    {
      "cell_type": "code",
      "metadata": {
        "source_hash": "776e178d",
        "execution_start": 1746607903419,
        "execution_millis": 263,
        "sql_integration_id": "deepnote-dataframe-sql",
        "execution_context_id": "3851b718-8248-4c45-97ee-dd2a7150cd4f",
        "deepnote_variable_name": "query_1",
        "deepnote_return_variable_type": "query_preview",
        "cell_id": "128318ddfad240dc81a80b7eedd13d75",
        "deepnote_cell_type": "sql",
        "deepnote_sql_source": "\nSELECT * \nFROM customers"
      },
      "source": "query_1 = _dntk.execute_sql(\n  '\\nSELECT * \\nFROM customers',\n  'SQL_DEEPNOTE_DATAFRAME_SQL',\n  audit_sql_comment='',\n  sql_cache_mode='cache_disabled',\n  return_variable_type='query_preview'\n)\nquery_1",
      "block_group": "bab45b59098d4dadb318747b753a12ff",
      "execution_count": 3,
      "outputs": [
        {
          "output_type": "execute_result",
          "execution_count": 3,
          "data": {
            "application/vnd.deepnote.dataframe.v3+json": {
              "column_count": 4,
              "row_count": 5,
              "columns": [
                {
                  "name": "CustomerID",
                  "dtype": "object",
                  "stats": {
                    "unique_count": 5,
                    "nan_count": 0,
                    "categories": [
                      {
                        "name": "1",
                        "count": 1
                      },
                      {
                        "name": "2",
                        "count": 1
                      },
                      {
                        "name": "3 others",
                        "count": 3
                      }
                    ]
                  }
                },
                {
                  "name": "CustomerName",
                  "dtype": "object",
                  "stats": {
                    "unique_count": 5,
                    "nan_count": 0,
                    "categories": [
                      {
                        "name": "Alfreds Futterkiste",
                        "count": 1
                      },
                      {
                        "name": "Ana Trujillo Emparedados y helados",
                        "count": 1
                      },
                      {
                        "name": "3 others",
                        "count": 3
                      }
                    ]
                  }
                },
                {
                  "name": "ContactName",
                  "dtype": "object",
                  "stats": {
                    "unique_count": 5,
                    "nan_count": 0,
                    "categories": [
                      {
                        "name": "Maria Anders",
                        "count": 1
                      },
                      {
                        "name": "Ana Trujillo",
                        "count": 1
                      },
                      {
                        "name": "3 others",
                        "count": 3
                      }
                    ]
                  }
                },
                {
                  "name": "Country",
                  "dtype": "object",
                  "stats": {
                    "unique_count": 4,
                    "nan_count": 0,
                    "categories": [
                      {
                        "name": "Mexico",
                        "count": 2
                      },
                      {
                        "name": "Germany",
                        "count": 1
                      },
                      {
                        "name": "2 others",
                        "count": 2
                      }
                    ]
                  }
                },
                {
                  "name": "_deepnote_index_column",
                  "dtype": "int64"
                }
              ],
              "rows": [
                {
                  "CustomerID": "1",
                  "CustomerName": "Alfreds Futterkiste",
                  "ContactName": "Maria Anders",
                  "Country": "Germany",
                  "_deepnote_index_column": 0
                },
                {
                  "CustomerID": "2",
                  "CustomerName": "Ana Trujillo Emparedados y helados",
                  "ContactName": "Ana Trujillo",
                  "Country": "Mexico",
                  "_deepnote_index_column": 1
                },
                {
                  "CustomerID": "3",
                  "CustomerName": "Antonio Moreno Taquería",
                  "ContactName": "Antonio Moreno",
                  "Country": "Mexico",
                  "_deepnote_index_column": 2
                },
                {
                  "CustomerID": "4",
                  "CustomerName": "Around the Horn",
                  "ContactName": "Thomas Hardy",
                  "Country": "UK",
                  "_deepnote_index_column": 3
                },
                {
                  "CustomerID": "5",
                  "CustomerName": "Berglunds snabbköp",
                  "ContactName": "Christina Berglund",
                  "Country": "Sweden",
                  "_deepnote_index_column": 4
                }
              ],
              "type": "query_preview"
            },
            "text/plain": "  CustomerID                        CustomerName         ContactName  Country\n0          1                 Alfreds Futterkiste        Maria Anders  Germany\n1          2  Ana Trujillo Emparedados y helados        Ana Trujillo   Mexico\n2          3             Antonio Moreno Taquería      Antonio Moreno   Mexico\n3          4                     Around the Horn        Thomas Hardy       UK\n4          5                  Berglunds snabbköp  Christina Berglund   Sweden",
            "text/html": "<div>\n<style scoped>\n    .dataframe tbody tr th:only-of-type {\n        vertical-align: middle;\n    }\n\n    .dataframe tbody tr th {\n        vertical-align: top;\n    }\n\n    .dataframe thead th {\n        text-align: right;\n    }\n</style>\n<table border=\"1\" class=\"dataframe\">\n  <thead>\n    <tr style=\"text-align: right;\">\n      <th></th>\n      <th>CustomerID</th>\n      <th>CustomerName</th>\n      <th>ContactName</th>\n      <th>Country</th>\n    </tr>\n  </thead>\n  <tbody>\n    <tr>\n      <th>0</th>\n      <td>1</td>\n      <td>Alfreds Futterkiste</td>\n      <td>Maria Anders</td>\n      <td>Germany</td>\n    </tr>\n    <tr>\n      <th>1</th>\n      <td>2</td>\n      <td>Ana Trujillo Emparedados y helados</td>\n      <td>Ana Trujillo</td>\n      <td>Mexico</td>\n    </tr>\n    <tr>\n      <th>2</th>\n      <td>3</td>\n      <td>Antonio Moreno Taquería</td>\n      <td>Antonio Moreno</td>\n      <td>Mexico</td>\n    </tr>\n    <tr>\n      <th>3</th>\n      <td>4</td>\n      <td>Around the Horn</td>\n      <td>Thomas Hardy</td>\n      <td>UK</td>\n    </tr>\n    <tr>\n      <th>4</th>\n      <td>5</td>\n      <td>Berglunds snabbköp</td>\n      <td>Christina Berglund</td>\n      <td>Sweden</td>\n    </tr>\n  </tbody>\n</table>\n</div>"
          },
          "metadata": {}
        }
      ],
      "outputs_reference": null,
      "content_dependencies": null
    },
    {
      "cell_type": "code",
      "metadata": {
        "source_hash": "366a9b81",
        "execution_start": 1746607903839,
        "execution_millis": 0,
        "sql_integration_id": "deepnote-dataframe-sql",
        "execution_context_id": "3851b718-8248-4c45-97ee-dd2a7150cd4f",
        "deepnote_variable_name": "query_2",
        "deepnote_return_variable_type": "query_preview",
        "cell_id": "14392966a17c416480eb9a9819aba7cd",
        "deepnote_cell_type": "sql",
        "deepnote_sql_source": "SELECT * \nFROM products"
      },
      "source": "query_2 = _dntk.execute_sql(\n  'SELECT * \\nFROM products',\n  'SQL_DEEPNOTE_DATAFRAME_SQL',\n  audit_sql_comment='',\n  sql_cache_mode='cache_disabled',\n  return_variable_type='query_preview'\n)\nquery_2",
      "block_group": "bab45b59098d4dadb318747b753a12ff",
      "execution_count": 6,
      "outputs": [
        {
          "output_type": "execute_result",
          "execution_count": 6,
          "data": {
            "application/vnd.deepnote.dataframe.v3+json": {
              "column_count": 6,
              "row_count": 5,
              "columns": [
                {
                  "name": "ProductID",
                  "dtype": "object",
                  "stats": {
                    "unique_count": 5,
                    "nan_count": 0,
                    "categories": [
                      {
                        "name": "11",
                        "count": 1
                      },
                      {
                        "name": "22",
                        "count": 1
                      },
                      {
                        "name": "3 others",
                        "count": 3
                      }
                    ]
                  }
                },
                {
                  "name": "ProductName",
                  "dtype": "object",
                  "stats": {
                    "unique_count": 5,
                    "nan_count": 0,
                    "categories": [
                      {
                        "name": "Chai",
                        "count": 1
                      },
                      {
                        "name": "Chang",
                        "count": 1
                      },
                      {
                        "name": "3 others",
                        "count": 3
                      }
                    ]
                  }
                },
                {
                  "name": "SupplierID",
                  "dtype": "object",
                  "stats": {
                    "unique_count": 2,
                    "nan_count": 0,
                    "categories": [
                      {
                        "name": "1",
                        "count": 3
                      },
                      {
                        "name": "2",
                        "count": 2
                      }
                    ]
                  }
                },
                {
                  "name": "CategoryID",
                  "dtype": "object",
                  "stats": {
                    "unique_count": 2,
                    "nan_count": 0,
                    "categories": [
                      {
                        "name": "2",
                        "count": 3
                      },
                      {
                        "name": "1",
                        "count": 2
                      }
                    ]
                  }
                },
                {
                  "name": "Unit",
                  "dtype": "object",
                  "stats": {
                    "unique_count": 5,
                    "nan_count": 0,
                    "categories": [
                      {
                        "name": "10 boxes x 20 bags",
                        "count": 1
                      },
                      {
                        "name": "24 - 12 oz bottles",
                        "count": 1
                      },
                      {
                        "name": "3 others",
                        "count": 3
                      }
                    ]
                  }
                },
                {
                  "name": "Price",
                  "dtype": "object",
                  "stats": {
                    "unique_count": 5,
                    "nan_count": 0,
                    "categories": [
                      {
                        "name": "18.0",
                        "count": 1
                      },
                      {
                        "name": "19.0",
                        "count": 1
                      },
                      {
                        "name": "3 others",
                        "count": 3
                      }
                    ]
                  }
                },
                {
                  "name": "_deepnote_index_column",
                  "dtype": "int64"
                }
              ],
              "rows": [
                {
                  "ProductID": "11",
                  "ProductName": "Chai",
                  "SupplierID": "1",
                  "CategoryID": "1",
                  "Unit": "10 boxes x 20 bags",
                  "Price": "18.0",
                  "_deepnote_index_column": 0
                },
                {
                  "ProductID": "22",
                  "ProductName": "Chang",
                  "SupplierID": "1",
                  "CategoryID": "1",
                  "Unit": "24 - 12 oz bottles",
                  "Price": "19.0",
                  "_deepnote_index_column": 1
                },
                {
                  "ProductID": "33",
                  "ProductName": "Aniseed Syrup",
                  "SupplierID": "1",
                  "CategoryID": "2",
                  "Unit": "12 - 550 ml bottles",
                  "Price": "10.0",
                  "_deepnote_index_column": 2
                },
                {
                  "ProductID": "44",
                  "ProductName": "Chef Anton's Cajun Seasoning",
                  "SupplierID": "2",
                  "CategoryID": "2",
                  "Unit": "48 - 6 oz jars",
                  "Price": "22.0",
                  "_deepnote_index_column": 3
                },
                {
                  "ProductID": "55",
                  "ProductName": "Chef Anton's Gumbo Mix",
                  "SupplierID": "2",
                  "CategoryID": "2",
                  "Unit": "36 boxes",
                  "Price": "21.35",
                  "_deepnote_index_column": 4
                }
              ],
              "type": "query_preview"
            },
            "text/plain": "  ProductID                   ProductName SupplierID CategoryID  \\\n0        11                          Chai          1          1   \n1        22                         Chang          1          1   \n2        33                 Aniseed Syrup          1          2   \n3        44  Chef Anton's Cajun Seasoning          2          2   \n4        55        Chef Anton's Gumbo Mix          2          2   \n\n                  Unit  Price  \n0   10 boxes x 20 bags   18.0  \n1   24 - 12 oz bottles   19.0  \n2  12 - 550 ml bottles   10.0  \n3       48 - 6 oz jars   22.0  \n4             36 boxes  21.35  ",
            "text/html": "<div>\n<style scoped>\n    .dataframe tbody tr th:only-of-type {\n        vertical-align: middle;\n    }\n\n    .dataframe tbody tr th {\n        vertical-align: top;\n    }\n\n    .dataframe thead th {\n        text-align: right;\n    }\n</style>\n<table border=\"1\" class=\"dataframe\">\n  <thead>\n    <tr style=\"text-align: right;\">\n      <th></th>\n      <th>ProductID</th>\n      <th>ProductName</th>\n      <th>SupplierID</th>\n      <th>CategoryID</th>\n      <th>Unit</th>\n      <th>Price</th>\n    </tr>\n  </thead>\n  <tbody>\n    <tr>\n      <th>0</th>\n      <td>11</td>\n      <td>Chai</td>\n      <td>1</td>\n      <td>1</td>\n      <td>10 boxes x 20 bags</td>\n      <td>18.0</td>\n    </tr>\n    <tr>\n      <th>1</th>\n      <td>22</td>\n      <td>Chang</td>\n      <td>1</td>\n      <td>1</td>\n      <td>24 - 12 oz bottles</td>\n      <td>19.0</td>\n    </tr>\n    <tr>\n      <th>2</th>\n      <td>33</td>\n      <td>Aniseed Syrup</td>\n      <td>1</td>\n      <td>2</td>\n      <td>12 - 550 ml bottles</td>\n      <td>10.0</td>\n    </tr>\n    <tr>\n      <th>3</th>\n      <td>44</td>\n      <td>Chef Anton's Cajun Seasoning</td>\n      <td>2</td>\n      <td>2</td>\n      <td>48 - 6 oz jars</td>\n      <td>22.0</td>\n    </tr>\n    <tr>\n      <th>4</th>\n      <td>55</td>\n      <td>Chef Anton's Gumbo Mix</td>\n      <td>2</td>\n      <td>2</td>\n      <td>36 boxes</td>\n      <td>21.35</td>\n    </tr>\n  </tbody>\n</table>\n</div>"
          },
          "metadata": {}
        }
      ],
      "outputs_reference": null,
      "content_dependencies": null
    },
    {
      "cell_type": "code",
      "metadata": {
        "allow_embed": false,
        "source_hash": "cbd0b1ba",
        "execution_start": 1746607903729,
        "execution_millis": 1,
        "sql_integration_id": "deepnote-dataframe-sql",
        "execution_context_id": "3851b718-8248-4c45-97ee-dd2a7150cd4f",
        "deepnote_variable_name": "query_3",
        "deepnote_return_variable_type": "query_preview",
        "cell_id": "47f7ee83a6e642309597f2eb952df6fd",
        "deepnote_cell_type": "sql",
        "deepnote_sql_source": "\nSELECT * \nFROM orders"
      },
      "source": "query_3 = _dntk.execute_sql(\n  '\\nSELECT * \\nFROM orders',\n  'SQL_DEEPNOTE_DATAFRAME_SQL',\n  audit_sql_comment='',\n  sql_cache_mode='cache_disabled',\n  return_variable_type='query_preview'\n)\nquery_3",
      "block_group": "628145ce2da940809addbddc822c2db2",
      "execution_count": 4,
      "outputs": [
        {
          "output_type": "execute_result",
          "execution_count": 4,
          "data": {
            "application/vnd.deepnote.dataframe.v3+json": {
              "column_count": 5,
              "row_count": 5,
              "columns": [
                {
                  "name": "OrderID",
                  "dtype": "object",
                  "stats": {
                    "unique_count": 5,
                    "nan_count": 0,
                    "categories": [
                      {
                        "name": "10248",
                        "count": 1
                      },
                      {
                        "name": "10249",
                        "count": 1
                      },
                      {
                        "name": "3 others",
                        "count": 3
                      }
                    ]
                  }
                },
                {
                  "name": "CustomerID",
                  "dtype": "object",
                  "stats": {
                    "unique_count": 5,
                    "nan_count": 0,
                    "categories": [
                      {
                        "name": "1",
                        "count": 1
                      },
                      {
                        "name": "2",
                        "count": 1
                      },
                      {
                        "name": "3 others",
                        "count": 3
                      }
                    ]
                  }
                },
                {
                  "name": "EmployeeID",
                  "dtype": "object",
                  "stats": {
                    "unique_count": 5,
                    "nan_count": 0,
                    "categories": [
                      {
                        "name": "5",
                        "count": 1
                      },
                      {
                        "name": "6",
                        "count": 1
                      },
                      {
                        "name": "3 others",
                        "count": 3
                      }
                    ]
                  }
                },
                {
                  "name": "OrderDate",
                  "dtype": "object",
                  "stats": {
                    "unique_count": 5,
                    "nan_count": 0,
                    "categories": [
                      {
                        "name": "2023-01-15",
                        "count": 1
                      },
                      {
                        "name": "2023-02-17",
                        "count": 1
                      },
                      {
                        "name": "3 others",
                        "count": 3
                      }
                    ]
                  }
                },
                {
                  "name": "ShipperID",
                  "dtype": "object",
                  "stats": {
                    "unique_count": 3,
                    "nan_count": 0,
                    "categories": [
                      {
                        "name": "1",
                        "count": 2
                      },
                      {
                        "name": "2",
                        "count": 2
                      },
                      {
                        "name": "3",
                        "count": 1
                      }
                    ]
                  }
                },
                {
                  "name": "_deepnote_index_column",
                  "dtype": "int64"
                }
              ],
              "rows": [
                {
                  "OrderID": "10248",
                  "CustomerID": "1",
                  "EmployeeID": "5",
                  "OrderDate": "2023-01-15",
                  "ShipperID": "3",
                  "_deepnote_index_column": 0
                },
                {
                  "OrderID": "10249",
                  "CustomerID": "2",
                  "EmployeeID": "6",
                  "OrderDate": "2023-02-17",
                  "ShipperID": "1",
                  "_deepnote_index_column": 1
                },
                {
                  "OrderID": "10250",
                  "CustomerID": "3",
                  "EmployeeID": "4",
                  "OrderDate": "2023-03-18",
                  "ShipperID": "2",
                  "_deepnote_index_column": 2
                },
                {
                  "OrderID": "10251",
                  "CustomerID": "4",
                  "EmployeeID": "3",
                  "OrderDate": "2023-04-19",
                  "ShipperID": "1",
                  "_deepnote_index_column": 3
                },
                {
                  "OrderID": "10252",
                  "CustomerID": "5",
                  "EmployeeID": "2",
                  "OrderDate": "2023-05-20",
                  "ShipperID": "2",
                  "_deepnote_index_column": 4
                }
              ],
              "type": "query_preview"
            },
            "text/plain": "  OrderID CustomerID EmployeeID   OrderDate ShipperID\n0   10248          1          5  2023-01-15         3\n1   10249          2          6  2023-02-17         1\n2   10250          3          4  2023-03-18         2\n3   10251          4          3  2023-04-19         1\n4   10252          5          2  2023-05-20         2",
            "text/html": "<div>\n<style scoped>\n    .dataframe tbody tr th:only-of-type {\n        vertical-align: middle;\n    }\n\n    .dataframe tbody tr th {\n        vertical-align: top;\n    }\n\n    .dataframe thead th {\n        text-align: right;\n    }\n</style>\n<table border=\"1\" class=\"dataframe\">\n  <thead>\n    <tr style=\"text-align: right;\">\n      <th></th>\n      <th>OrderID</th>\n      <th>CustomerID</th>\n      <th>EmployeeID</th>\n      <th>OrderDate</th>\n      <th>ShipperID</th>\n    </tr>\n  </thead>\n  <tbody>\n    <tr>\n      <th>0</th>\n      <td>10248</td>\n      <td>1</td>\n      <td>5</td>\n      <td>2023-01-15</td>\n      <td>3</td>\n    </tr>\n    <tr>\n      <th>1</th>\n      <td>10249</td>\n      <td>2</td>\n      <td>6</td>\n      <td>2023-02-17</td>\n      <td>1</td>\n    </tr>\n    <tr>\n      <th>2</th>\n      <td>10250</td>\n      <td>3</td>\n      <td>4</td>\n      <td>2023-03-18</td>\n      <td>2</td>\n    </tr>\n    <tr>\n      <th>3</th>\n      <td>10251</td>\n      <td>4</td>\n      <td>3</td>\n      <td>2023-04-19</td>\n      <td>1</td>\n    </tr>\n    <tr>\n      <th>4</th>\n      <td>10252</td>\n      <td>5</td>\n      <td>2</td>\n      <td>2023-05-20</td>\n      <td>2</td>\n    </tr>\n  </tbody>\n</table>\n</div>"
          },
          "metadata": {}
        }
      ],
      "outputs_reference": null,
      "content_dependencies": null
    },
    {
      "cell_type": "code",
      "metadata": {
        "allow_embed": false,
        "source_hash": "31aeff07",
        "execution_start": 1746607903779,
        "execution_millis": 1,
        "sql_integration_id": "deepnote-dataframe-sql",
        "execution_context_id": "3851b718-8248-4c45-97ee-dd2a7150cd4f",
        "deepnote_variable_name": "query_4",
        "deepnote_return_variable_type": "query_preview",
        "cell_id": "36c5ac6a40bb4197871428264dff6664",
        "deepnote_cell_type": "sql",
        "deepnote_sql_source": "SELECT * \nFROM orderdetails"
      },
      "source": "query_4 = _dntk.execute_sql(\n  'SELECT * \\nFROM orderdetails',\n  'SQL_DEEPNOTE_DATAFRAME_SQL',\n  audit_sql_comment='',\n  sql_cache_mode='cache_disabled',\n  return_variable_type='query_preview'\n)\nquery_4",
      "block_group": "628145ce2da940809addbddc822c2db2",
      "execution_count": 5,
      "outputs": [
        {
          "output_type": "execute_result",
          "execution_count": 5,
          "data": {
            "application/vnd.deepnote.dataframe.v3+json": {
              "column_count": 5,
              "row_count": 5,
              "columns": [
                {
                  "name": "OrderDetailID",
                  "dtype": "float64",
                  "stats": {
                    "unique_count": 5,
                    "nan_count": 0,
                    "min": "1.0",
                    "max": "5.0",
                    "histogram": [
                      {
                        "bin_start": 1,
                        "bin_end": 1.4,
                        "count": 1
                      },
                      {
                        "bin_start": 1.4,
                        "bin_end": 1.8,
                        "count": 0
                      },
                      {
                        "bin_start": 1.8,
                        "bin_end": 2.2,
                        "count": 1
                      },
                      {
                        "bin_start": 2.2,
                        "bin_end": 2.6,
                        "count": 0
                      },
                      {
                        "bin_start": 2.6,
                        "bin_end": 3,
                        "count": 0
                      },
                      {
                        "bin_start": 3,
                        "bin_end": 3.4000000000000004,
                        "count": 1
                      },
                      {
                        "bin_start": 3.4000000000000004,
                        "bin_end": 3.8000000000000003,
                        "count": 0
                      },
                      {
                        "bin_start": 3.8000000000000003,
                        "bin_end": 4.2,
                        "count": 1
                      },
                      {
                        "bin_start": 4.2,
                        "bin_end": 4.6,
                        "count": 0
                      },
                      {
                        "bin_start": 4.6,
                        "bin_end": 5,
                        "count": 1
                      }
                    ]
                  }
                },
                {
                  "name": "OrderID",
                  "dtype": "float64",
                  "stats": {
                    "unique_count": 5,
                    "nan_count": 0,
                    "min": "10248.0",
                    "max": "10252.0",
                    "histogram": [
                      {
                        "bin_start": 10248,
                        "bin_end": 10248.4,
                        "count": 1
                      },
                      {
                        "bin_start": 10248.4,
                        "bin_end": 10248.8,
                        "count": 0
                      },
                      {
                        "bin_start": 10248.8,
                        "bin_end": 10249.2,
                        "count": 1
                      },
                      {
                        "bin_start": 10249.2,
                        "bin_end": 10249.6,
                        "count": 0
                      },
                      {
                        "bin_start": 10249.6,
                        "bin_end": 10250,
                        "count": 0
                      },
                      {
                        "bin_start": 10250,
                        "bin_end": 10250.4,
                        "count": 1
                      },
                      {
                        "bin_start": 10250.4,
                        "bin_end": 10250.8,
                        "count": 0
                      },
                      {
                        "bin_start": 10250.8,
                        "bin_end": 10251.2,
                        "count": 1
                      },
                      {
                        "bin_start": 10251.2,
                        "bin_end": 10251.6,
                        "count": 0
                      },
                      {
                        "bin_start": 10251.6,
                        "bin_end": 10252,
                        "count": 1
                      }
                    ]
                  }
                },
                {
                  "name": "ProductID",
                  "dtype": "float64",
                  "stats": {
                    "unique_count": 5,
                    "nan_count": 0,
                    "min": "11.0",
                    "max": "55.0",
                    "histogram": [
                      {
                        "bin_start": 11,
                        "bin_end": 15.4,
                        "count": 1
                      },
                      {
                        "bin_start": 15.4,
                        "bin_end": 19.8,
                        "count": 0
                      },
                      {
                        "bin_start": 19.8,
                        "bin_end": 24.200000000000003,
                        "count": 1
                      },
                      {
                        "bin_start": 24.200000000000003,
                        "bin_end": 28.6,
                        "count": 0
                      },
                      {
                        "bin_start": 28.6,
                        "bin_end": 33,
                        "count": 0
                      },
                      {
                        "bin_start": 33,
                        "bin_end": 37.400000000000006,
                        "count": 1
                      },
                      {
                        "bin_start": 37.400000000000006,
                        "bin_end": 41.800000000000004,
                        "count": 0
                      },
                      {
                        "bin_start": 41.800000000000004,
                        "bin_end": 46.2,
                        "count": 1
                      },
                      {
                        "bin_start": 46.2,
                        "bin_end": 50.6,
                        "count": 0
                      },
                      {
                        "bin_start": 50.6,
                        "bin_end": 55,
                        "count": 1
                      }
                    ]
                  }
                },
                {
                  "name": "Quantity",
                  "dtype": "float64",
                  "stats": {
                    "unique_count": 5,
                    "nan_count": 0,
                    "min": "10.0",
                    "max": "25.0",
                    "histogram": [
                      {
                        "bin_start": 10,
                        "bin_end": 11.5,
                        "count": 1
                      },
                      {
                        "bin_start": 11.5,
                        "bin_end": 13,
                        "count": 1
                      },
                      {
                        "bin_start": 13,
                        "bin_end": 14.5,
                        "count": 0
                      },
                      {
                        "bin_start": 14.5,
                        "bin_end": 16,
                        "count": 1
                      },
                      {
                        "bin_start": 16,
                        "bin_end": 17.5,
                        "count": 0
                      },
                      {
                        "bin_start": 17.5,
                        "bin_end": 19,
                        "count": 0
                      },
                      {
                        "bin_start": 19,
                        "bin_end": 20.5,
                        "count": 1
                      },
                      {
                        "bin_start": 20.5,
                        "bin_end": 22,
                        "count": 0
                      },
                      {
                        "bin_start": 22,
                        "bin_end": 23.5,
                        "count": 0
                      },
                      {
                        "bin_start": 23.5,
                        "bin_end": 25,
                        "count": 1
                      }
                    ]
                  }
                },
                {
                  "name": "Price",
                  "dtype": "float64",
                  "stats": {
                    "unique_count": 5,
                    "nan_count": 0,
                    "min": "9.8",
                    "max": "21.0",
                    "histogram": [
                      {
                        "bin_start": 9.8,
                        "bin_end": 10.92,
                        "count": 1
                      },
                      {
                        "bin_start": 10.92,
                        "bin_end": 12.040000000000001,
                        "count": 0
                      },
                      {
                        "bin_start": 12.040000000000001,
                        "bin_end": 13.16,
                        "count": 0
                      },
                      {
                        "bin_start": 13.16,
                        "bin_end": 14.280000000000001,
                        "count": 1
                      },
                      {
                        "bin_start": 14.280000000000001,
                        "bin_end": 15.4,
                        "count": 0
                      },
                      {
                        "bin_start": 15.4,
                        "bin_end": 16.52,
                        "count": 1
                      },
                      {
                        "bin_start": 16.52,
                        "bin_end": 17.64,
                        "count": 0
                      },
                      {
                        "bin_start": 17.64,
                        "bin_end": 18.759999999999998,
                        "count": 1
                      },
                      {
                        "bin_start": 18.759999999999998,
                        "bin_end": 19.88,
                        "count": 0
                      },
                      {
                        "bin_start": 19.88,
                        "bin_end": 21,
                        "count": 1
                      }
                    ]
                  }
                },
                {
                  "name": "_deepnote_index_column",
                  "dtype": "int64"
                }
              ],
              "rows": [
                {
                  "OrderDetailID": 1,
                  "OrderID": 10248,
                  "ProductID": 11,
                  "Quantity": 12,
                  "Price": 14,
                  "_deepnote_index_column": 0
                },
                {
                  "OrderDetailID": 2,
                  "OrderID": 10249,
                  "ProductID": 22,
                  "Quantity": 20,
                  "Price": 9.8,
                  "_deepnote_index_column": 1
                },
                {
                  "OrderDetailID": 3,
                  "OrderID": 10250,
                  "ProductID": 33,
                  "Quantity": 10,
                  "Price": 18.6,
                  "_deepnote_index_column": 2
                },
                {
                  "OrderDetailID": 4,
                  "OrderID": 10251,
                  "ProductID": 44,
                  "Quantity": 15,
                  "Price": 21,
                  "_deepnote_index_column": 3
                },
                {
                  "OrderDetailID": 5,
                  "OrderID": 10252,
                  "ProductID": 55,
                  "Quantity": 25,
                  "Price": 15.6,
                  "_deepnote_index_column": 4
                }
              ],
              "type": "query_preview"
            },
            "text/plain": "   OrderDetailID  OrderID  ProductID  Quantity  Price\n0            1.0  10248.0       11.0      12.0   14.0\n1            2.0  10249.0       22.0      20.0    9.8\n2            3.0  10250.0       33.0      10.0   18.6\n3            4.0  10251.0       44.0      15.0   21.0\n4            5.0  10252.0       55.0      25.0   15.6",
            "text/html": "<div>\n<style scoped>\n    .dataframe tbody tr th:only-of-type {\n        vertical-align: middle;\n    }\n\n    .dataframe tbody tr th {\n        vertical-align: top;\n    }\n\n    .dataframe thead th {\n        text-align: right;\n    }\n</style>\n<table border=\"1\" class=\"dataframe\">\n  <thead>\n    <tr style=\"text-align: right;\">\n      <th></th>\n      <th>OrderDetailID</th>\n      <th>OrderID</th>\n      <th>ProductID</th>\n      <th>Quantity</th>\n      <th>Price</th>\n    </tr>\n  </thead>\n  <tbody>\n    <tr>\n      <th>0</th>\n      <td>1.0</td>\n      <td>10248.0</td>\n      <td>11.0</td>\n      <td>12.0</td>\n      <td>14.0</td>\n    </tr>\n    <tr>\n      <th>1</th>\n      <td>2.0</td>\n      <td>10249.0</td>\n      <td>22.0</td>\n      <td>20.0</td>\n      <td>9.8</td>\n    </tr>\n    <tr>\n      <th>2</th>\n      <td>3.0</td>\n      <td>10250.0</td>\n      <td>33.0</td>\n      <td>10.0</td>\n      <td>18.6</td>\n    </tr>\n    <tr>\n      <th>3</th>\n      <td>4.0</td>\n      <td>10251.0</td>\n      <td>44.0</td>\n      <td>15.0</td>\n      <td>21.0</td>\n    </tr>\n    <tr>\n      <th>4</th>\n      <td>5.0</td>\n      <td>10252.0</td>\n      <td>55.0</td>\n      <td>25.0</td>\n      <td>15.6</td>\n    </tr>\n  </tbody>\n</table>\n</div>"
          },
          "metadata": {}
        }
      ],
      "outputs_reference": null,
      "content_dependencies": null
    },
    {
      "cell_type": "code",
      "metadata": {
        "source_hash": "809878e4",
        "execution_start": 1746608747789,
        "execution_millis": 2,
        "sql_integration_id": "deepnote-dataframe-sql",
        "execution_context_id": "3851b718-8248-4c45-97ee-dd2a7150cd4f",
        "deepnote_variable_name": "query_5",
        "deepnote_return_variable_type": "query_preview",
        "cell_id": "336e11d6d29b412a8ede2216d92c7761",
        "deepnote_cell_type": "sql",
        "deepnote_sql_source": "SELECT *, c.customerName AS CustomerName FROM orderdetails od\nINNER JOIN orders o\nON od.OrderID = o.OrderID\nINNER JOIN customers c\nON o.CustomerID = c.CustomerID"
      },
      "source": "query_5 = _dntk.execute_sql(\n  'SELECT *, c.customerName AS CustomerName FROM orderdetails od\\nINNER JOIN orders o\\nON od.OrderID = o.OrderID\\nINNER JOIN customers c\\nON o.CustomerID = c.CustomerID',\n  'SQL_DEEPNOTE_DATAFRAME_SQL',\n  audit_sql_comment='',\n  sql_cache_mode='cache_disabled',\n  return_variable_type='query_preview'\n)\nquery_5",
      "block_group": "3f8ca850ee68410e9b82dd509b9882c7",
      "execution_count": 21,
      "outputs": [
        {
          "output_type": "execute_result",
          "execution_count": 21,
          "data": {
            "application/vnd.deepnote.dataframe.v3+json": {
              "column_count": 15,
              "row_count": 5,
              "columns": [
                {
                  "name": "OrderDetailID",
                  "dtype": "object",
                  "stats": {
                    "unique_count": 5,
                    "nan_count": 0,
                    "categories": [
                      {
                        "name": "1",
                        "count": 1
                      },
                      {
                        "name": "2",
                        "count": 1
                      },
                      {
                        "name": "3 others",
                        "count": 3
                      }
                    ]
                  }
                },
                {
                  "name": "OrderID",
                  "dtype": "object",
                  "stats": {
                    "unique_count": 5,
                    "nan_count": 0,
                    "categories": [
                      {
                        "name": "10248",
                        "count": 1
                      },
                      {
                        "name": "10249",
                        "count": 1
                      },
                      {
                        "name": "3 others",
                        "count": 3
                      }
                    ]
                  }
                },
                {
                  "name": "ProductID",
                  "dtype": "object",
                  "stats": {
                    "unique_count": 5,
                    "nan_count": 0,
                    "categories": [
                      {
                        "name": "11",
                        "count": 1
                      },
                      {
                        "name": "22",
                        "count": 1
                      },
                      {
                        "name": "3 others",
                        "count": 3
                      }
                    ]
                  }
                },
                {
                  "name": "Quantity",
                  "dtype": "object",
                  "stats": {
                    "unique_count": 5,
                    "nan_count": 0,
                    "categories": [
                      {
                        "name": "12",
                        "count": 1
                      },
                      {
                        "name": "20",
                        "count": 1
                      },
                      {
                        "name": "3 others",
                        "count": 3
                      }
                    ]
                  }
                },
                {
                  "name": "Price",
                  "dtype": "object",
                  "stats": {
                    "unique_count": 5,
                    "nan_count": 0,
                    "categories": [
                      {
                        "name": "14.0",
                        "count": 1
                      },
                      {
                        "name": "9.8",
                        "count": 1
                      },
                      {
                        "name": "3 others",
                        "count": 3
                      }
                    ]
                  }
                },
                {
                  "name": "OrderID_2",
                  "dtype": "object",
                  "stats": {
                    "unique_count": 5,
                    "nan_count": 0,
                    "categories": [
                      {
                        "name": "10248",
                        "count": 1
                      },
                      {
                        "name": "10249",
                        "count": 1
                      },
                      {
                        "name": "3 others",
                        "count": 3
                      }
                    ]
                  }
                },
                {
                  "name": "CustomerID",
                  "dtype": "object",
                  "stats": {
                    "unique_count": 5,
                    "nan_count": 0,
                    "categories": [
                      {
                        "name": "1",
                        "count": 1
                      },
                      {
                        "name": "2",
                        "count": 1
                      },
                      {
                        "name": "3 others",
                        "count": 3
                      }
                    ]
                  }
                },
                {
                  "name": "EmployeeID",
                  "dtype": "object",
                  "stats": {
                    "unique_count": 5,
                    "nan_count": 0,
                    "categories": [
                      {
                        "name": "5",
                        "count": 1
                      },
                      {
                        "name": "6",
                        "count": 1
                      },
                      {
                        "name": "3 others",
                        "count": 3
                      }
                    ]
                  }
                },
                {
                  "name": "OrderDate",
                  "dtype": "object",
                  "stats": {
                    "unique_count": 5,
                    "nan_count": 0,
                    "categories": [
                      {
                        "name": "2023-01-15",
                        "count": 1
                      },
                      {
                        "name": "2023-02-17",
                        "count": 1
                      },
                      {
                        "name": "3 others",
                        "count": 3
                      }
                    ]
                  }
                },
                {
                  "name": "ShipperID",
                  "dtype": "object",
                  "stats": {
                    "unique_count": 3,
                    "nan_count": 0,
                    "categories": [
                      {
                        "name": "1",
                        "count": 2
                      },
                      {
                        "name": "2",
                        "count": 2
                      },
                      {
                        "name": "3",
                        "count": 1
                      }
                    ]
                  }
                },
                {
                  "name": "CustomerID_2",
                  "dtype": "object",
                  "stats": {
                    "unique_count": 5,
                    "nan_count": 0,
                    "categories": [
                      {
                        "name": "1",
                        "count": 1
                      },
                      {
                        "name": "2",
                        "count": 1
                      },
                      {
                        "name": "3 others",
                        "count": 3
                      }
                    ]
                  }
                },
                {
                  "name": "CustomerName",
                  "dtype": "object",
                  "stats": {
                    "unique_count": 5,
                    "nan_count": 0,
                    "categories": [
                      {
                        "name": "Alfreds Futterkiste",
                        "count": 1
                      },
                      {
                        "name": "Ana Trujillo Emparedados y helados",
                        "count": 1
                      },
                      {
                        "name": "3 others",
                        "count": 3
                      }
                    ]
                  }
                },
                {
                  "name": "ContactName",
                  "dtype": "object",
                  "stats": {
                    "unique_count": 5,
                    "nan_count": 0,
                    "categories": [
                      {
                        "name": "Maria Anders",
                        "count": 1
                      },
                      {
                        "name": "Ana Trujillo",
                        "count": 1
                      },
                      {
                        "name": "3 others",
                        "count": 3
                      }
                    ]
                  }
                },
                {
                  "name": "Country",
                  "dtype": "object",
                  "stats": {
                    "unique_count": 4,
                    "nan_count": 0,
                    "categories": [
                      {
                        "name": "Mexico",
                        "count": 2
                      },
                      {
                        "name": "Germany",
                        "count": 1
                      },
                      {
                        "name": "2 others",
                        "count": 2
                      }
                    ]
                  }
                },
                {
                  "name": "CustomerName_2",
                  "dtype": "object",
                  "stats": {
                    "unique_count": 5,
                    "nan_count": 0,
                    "categories": [
                      {
                        "name": "Alfreds Futterkiste",
                        "count": 1
                      },
                      {
                        "name": "Ana Trujillo Emparedados y helados",
                        "count": 1
                      },
                      {
                        "name": "3 others",
                        "count": 3
                      }
                    ]
                  }
                },
                {
                  "name": "_deepnote_index_column",
                  "dtype": "int64"
                }
              ],
              "rows": [
                {
                  "OrderDetailID": "1",
                  "OrderID": "10248",
                  "ProductID": "11",
                  "Quantity": "12",
                  "Price": "14.0",
                  "OrderID_2": "10248",
                  "CustomerID": "1",
                  "EmployeeID": "5",
                  "OrderDate": "2023-01-15",
                  "ShipperID": "3",
                  "CustomerID_2": "1",
                  "CustomerName": "Alfreds Futterkiste",
                  "ContactName": "Maria Anders",
                  "Country": "Germany",
                  "CustomerName_2": "Alfreds Futterkiste",
                  "_deepnote_index_column": 0
                },
                {
                  "OrderDetailID": "2",
                  "OrderID": "10249",
                  "ProductID": "22",
                  "Quantity": "20",
                  "Price": "9.8",
                  "OrderID_2": "10249",
                  "CustomerID": "2",
                  "EmployeeID": "6",
                  "OrderDate": "2023-02-17",
                  "ShipperID": "1",
                  "CustomerID_2": "2",
                  "CustomerName": "Ana Trujillo Emparedados y helados",
                  "ContactName": "Ana Trujillo",
                  "Country": "Mexico",
                  "CustomerName_2": "Ana Trujillo Emparedados y helados",
                  "_deepnote_index_column": 1
                },
                {
                  "OrderDetailID": "3",
                  "OrderID": "10250",
                  "ProductID": "33",
                  "Quantity": "10",
                  "Price": "18.6",
                  "OrderID_2": "10250",
                  "CustomerID": "3",
                  "EmployeeID": "4",
                  "OrderDate": "2023-03-18",
                  "ShipperID": "2",
                  "CustomerID_2": "3",
                  "CustomerName": "Antonio Moreno Taquería",
                  "ContactName": "Antonio Moreno",
                  "Country": "Mexico",
                  "CustomerName_2": "Antonio Moreno Taquería",
                  "_deepnote_index_column": 2
                },
                {
                  "OrderDetailID": "4",
                  "OrderID": "10251",
                  "ProductID": "44",
                  "Quantity": "15",
                  "Price": "21.0",
                  "OrderID_2": "10251",
                  "CustomerID": "4",
                  "EmployeeID": "3",
                  "OrderDate": "2023-04-19",
                  "ShipperID": "1",
                  "CustomerID_2": "4",
                  "CustomerName": "Around the Horn",
                  "ContactName": "Thomas Hardy",
                  "Country": "UK",
                  "CustomerName_2": "Around the Horn",
                  "_deepnote_index_column": 3
                },
                {
                  "OrderDetailID": "5",
                  "OrderID": "10252",
                  "ProductID": "55",
                  "Quantity": "25",
                  "Price": "15.6",
                  "OrderID_2": "10252",
                  "CustomerID": "5",
                  "EmployeeID": "2",
                  "OrderDate": "2023-05-20",
                  "ShipperID": "2",
                  "CustomerID_2": "5",
                  "CustomerName": "Berglunds snabbköp",
                  "ContactName": "Christina Berglund",
                  "Country": "Sweden",
                  "CustomerName_2": "Berglunds snabbköp",
                  "_deepnote_index_column": 4
                }
              ],
              "type": "query_preview"
            },
            "text/plain": "  OrderDetailID OrderID ProductID Quantity Price OrderID_2 CustomerID  \\\n0             1   10248        11       12  14.0     10248          1   \n1             2   10249        22       20   9.8     10249          2   \n2             3   10250        33       10  18.6     10250          3   \n3             4   10251        44       15  21.0     10251          4   \n4             5   10252        55       25  15.6     10252          5   \n\n  EmployeeID   OrderDate ShipperID CustomerID_2  \\\n0          5  2023-01-15         3            1   \n1          6  2023-02-17         1            2   \n2          4  2023-03-18         2            3   \n3          3  2023-04-19         1            4   \n4          2  2023-05-20         2            5   \n\n                         CustomerName         ContactName  Country  \\\n0                 Alfreds Futterkiste        Maria Anders  Germany   \n1  Ana Trujillo Emparedados y helados        Ana Trujillo   Mexico   \n2             Antonio Moreno Taquería      Antonio Moreno   Mexico   \n3                     Around the Horn        Thomas Hardy       UK   \n4                  Berglunds snabbköp  Christina Berglund   Sweden   \n\n                       CustomerName_2  \n0                 Alfreds Futterkiste  \n1  Ana Trujillo Emparedados y helados  \n2             Antonio Moreno Taquería  \n3                     Around the Horn  \n4                  Berglunds snabbköp  ",
            "text/html": "<div>\n<style scoped>\n    .dataframe tbody tr th:only-of-type {\n        vertical-align: middle;\n    }\n\n    .dataframe tbody tr th {\n        vertical-align: top;\n    }\n\n    .dataframe thead th {\n        text-align: right;\n    }\n</style>\n<table border=\"1\" class=\"dataframe\">\n  <thead>\n    <tr style=\"text-align: right;\">\n      <th></th>\n      <th>OrderDetailID</th>\n      <th>OrderID</th>\n      <th>ProductID</th>\n      <th>Quantity</th>\n      <th>Price</th>\n      <th>OrderID_2</th>\n      <th>CustomerID</th>\n      <th>EmployeeID</th>\n      <th>OrderDate</th>\n      <th>ShipperID</th>\n      <th>CustomerID_2</th>\n      <th>CustomerName</th>\n      <th>ContactName</th>\n      <th>Country</th>\n      <th>CustomerName_2</th>\n    </tr>\n  </thead>\n  <tbody>\n    <tr>\n      <th>0</th>\n      <td>1</td>\n      <td>10248</td>\n      <td>11</td>\n      <td>12</td>\n      <td>14.0</td>\n      <td>10248</td>\n      <td>1</td>\n      <td>5</td>\n      <td>2023-01-15</td>\n      <td>3</td>\n      <td>1</td>\n      <td>Alfreds Futterkiste</td>\n      <td>Maria Anders</td>\n      <td>Germany</td>\n      <td>Alfreds Futterkiste</td>\n    </tr>\n    <tr>\n      <th>1</th>\n      <td>2</td>\n      <td>10249</td>\n      <td>22</td>\n      <td>20</td>\n      <td>9.8</td>\n      <td>10249</td>\n      <td>2</td>\n      <td>6</td>\n      <td>2023-02-17</td>\n      <td>1</td>\n      <td>2</td>\n      <td>Ana Trujillo Emparedados y helados</td>\n      <td>Ana Trujillo</td>\n      <td>Mexico</td>\n      <td>Ana Trujillo Emparedados y helados</td>\n    </tr>\n    <tr>\n      <th>2</th>\n      <td>3</td>\n      <td>10250</td>\n      <td>33</td>\n      <td>10</td>\n      <td>18.6</td>\n      <td>10250</td>\n      <td>3</td>\n      <td>4</td>\n      <td>2023-03-18</td>\n      <td>2</td>\n      <td>3</td>\n      <td>Antonio Moreno Taquería</td>\n      <td>Antonio Moreno</td>\n      <td>Mexico</td>\n      <td>Antonio Moreno Taquería</td>\n    </tr>\n    <tr>\n      <th>3</th>\n      <td>4</td>\n      <td>10251</td>\n      <td>44</td>\n      <td>15</td>\n      <td>21.0</td>\n      <td>10251</td>\n      <td>4</td>\n      <td>3</td>\n      <td>2023-04-19</td>\n      <td>1</td>\n      <td>4</td>\n      <td>Around the Horn</td>\n      <td>Thomas Hardy</td>\n      <td>UK</td>\n      <td>Around the Horn</td>\n    </tr>\n    <tr>\n      <th>4</th>\n      <td>5</td>\n      <td>10252</td>\n      <td>55</td>\n      <td>25</td>\n      <td>15.6</td>\n      <td>10252</td>\n      <td>5</td>\n      <td>2</td>\n      <td>2023-05-20</td>\n      <td>2</td>\n      <td>5</td>\n      <td>Berglunds snabbköp</td>\n      <td>Christina Berglund</td>\n      <td>Sweden</td>\n      <td>Berglunds snabbköp</td>\n    </tr>\n  </tbody>\n</table>\n</div>"
          },
          "metadata": {}
        }
      ],
      "outputs_reference": null,
      "content_dependencies": null
    },
    {
      "cell_type": "markdown",
      "source": "<a style='text-decoration:none;line-height:16px;display:flex;color:#5B5B62;padding:10px;justify-content:end;' href='https://deepnote.com?utm_source=created-in-deepnote-cell&projectId=360ce8b9-ca56-4969-a7c6-2b4d3b309009' target=\"_blank\">\n<img alt='Created in deepnote.com' style='display:inline;max-height:16px;margin:0px;margin-right:7.5px;' src='data:image/svg+xml;base64,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' > </img>\nCreated in <span style='font-weight:600;margin-left:4px;'>Deepnote</span></a>",
      "metadata": {
        "created_in_deepnote_cell": true,
        "deepnote_cell_type": "markdown"
      }
    }
  ],
  "nbformat": 4,
  "nbformat_minor": 0,
  "metadata": {
    "deepnote_persisted_session": {
      "createdAt": "2025-05-07T07:40:54.528Z"
    },
    "deepnote_notebook_id": "d9845a4214274d309b5107c7f6258773"
  }
}