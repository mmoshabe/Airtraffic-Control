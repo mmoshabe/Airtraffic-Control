{
  "cells": [
    {
      "cell_type": "code",
      "metadata": {
        "cell_id": "0d5763a54d1347ecb2f3c5bc31cf22f9",
        "deepnote_cell_type": "code"
      },
      "source": "!pip install --upgrade pip\n!pip install openpyxl",
      "block_group": "8d6ff2381d2948488bafdafbc4e2c8e2",
      "execution_count": null,
      "outputs": [],
      "outputs_reference": null,
      "content_dependencies": null
    },
    {
      "cell_type": "code",
      "metadata": {
        "source_hash": "4031c3ee",
        "execution_start": 1746602474875,
        "execution_millis": 164,
        "execution_context_id": "a9ae6ea8-d291-4d4e-86eb-b977d06e402c",
        "cell_id": "ca31d1acd65f431b9259c1c81101756b",
        "deepnote_cell_type": "code"
      },
      "source": "# It seems like there is a syntax error in the provided code. Instead of directly using 'st_read', we need to clarify\n# how the 'st_read' function is defined or imported in your environment. Since it is not a standard library function,\n# I'll write the corrected logic based on the assumption that this might be intending to read a CSV using pandas.\n\nimport pandas as pd\n\n# Read the CSV file\ndata = pd.read_csv('Customer Behavior/Customers.csv')\n\n# Display the data\nprint(data)",
      "block_group": "6ed2eb5d0c7f4f8e81bc7f502efd0341",
      "execution_count": 11,
      "outputs": [
        {
          "name": "stdout",
          "text": "   CustomerID                        CustomerName         ContactName  Country\n0           1                 Alfreds Futterkiste        Maria Anders  Germany\n1           2  Ana Trujillo Emparedados y helados        Ana Trujillo   Mexico\n2           3             Antonio Moreno Taquería      Antonio Moreno   Mexico\n3           4                     Around the Horn        Thomas Hardy       UK\n4           5                  Berglunds snabbköp  Christina Berglund   Sweden\n",
          "output_type": "stream"
        }
      ],
      "outputs_reference": null,
      "content_dependencies": null
    },
    {
      "cell_type": "code",
      "metadata": {
        "source_hash": "12044102",
        "execution_start": 1746602534045,
        "execution_millis": 1042,
        "sql_integration_id": "deepnote-dataframe-sql",
        "execution_context_id": "a9ae6ea8-d291-4d4e-86eb-b977d06e402c",
        "deepnote_variable_name": "query_1",
        "deepnote_return_variable_type": "query_preview",
        "cell_id": "128318ddfad240dc81a80b7eedd13d75",
        "deepnote_cell_type": "sql",
        "deepnote_sql_source": "SELECT * \nFROM st_read('Customer Behavior/Customers.csv')\n"
      },
      "source": "query_1 = _dntk.execute_sql(\n  'SELECT * \\nFROM st_read(\\'Customer Behavior/Customers.csv\\')\\n',\n  'SQL_DEEPNOTE_DATAFRAME_SQL',\n  audit_sql_comment='',\n  sql_cache_mode='cache_disabled',\n  return_variable_type='query_preview'\n)\nquery_1",
      "block_group": "bab45b59098d4dadb318747b753a12ff",
      "execution_count": 14,
      "outputs": [
        {
          "output_type": "execute_result",
          "execution_count": 14,
          "data": {
            "application/vnd.deepnote.dataframe.v3+json": {
              "column_count": 4,
              "row_count": 5,
              "columns": [
                {
                  "name": "CustomerID",
                  "dtype": "object",
                  "stats": {
                    "unique_count": 5,
                    "nan_count": 0,
                    "categories": [
                      {
                        "name": "1",
                        "count": 1
                      },
                      {
                        "name": "2",
                        "count": 1
                      },
                      {
                        "name": "3 others",
                        "count": 3
                      }
                    ]
                  }
                },
                {
                  "name": "CustomerName",
                  "dtype": "object",
                  "stats": {
                    "unique_count": 5,
                    "nan_count": 0,
                    "categories": [
                      {
                        "name": "Alfreds Futterkiste",
                        "count": 1
                      },
                      {
                        "name": "Ana Trujillo Emparedados y helados",
                        "count": 1
                      },
                      {
                        "name": "3 others",
                        "count": 3
                      }
                    ]
                  }
                },
                {
                  "name": "ContactName",
                  "dtype": "object",
                  "stats": {
                    "unique_count": 5,
                    "nan_count": 0,
                    "categories": [
                      {
                        "name": "Maria Anders",
                        "count": 1
                      },
                      {
                        "name": "Ana Trujillo",
                        "count": 1
                      },
                      {
                        "name": "3 others",
                        "count": 3
                      }
                    ]
                  }
                },
                {
                  "name": "Country",
                  "dtype": "object",
                  "stats": {
                    "unique_count": 4,
                    "nan_count": 0,
                    "categories": [
                      {
                        "name": "Mexico",
                        "count": 2
                      },
                      {
                        "name": "Germany",
                        "count": 1
                      },
                      {
                        "name": "2 others",
                        "count": 2
                      }
                    ]
                  }
                },
                {
                  "name": "_deepnote_index_column",
                  "dtype": "int64"
                }
              ],
              "rows": [
                {
                  "CustomerID": "1",
                  "CustomerName": "Alfreds Futterkiste",
                  "ContactName": "Maria Anders",
                  "Country": "Germany",
                  "_deepnote_index_column": 0
                },
                {
                  "CustomerID": "2",
                  "CustomerName": "Ana Trujillo Emparedados y helados",
                  "ContactName": "Ana Trujillo",
                  "Country": "Mexico",
                  "_deepnote_index_column": 1
                },
                {
                  "CustomerID": "3",
                  "CustomerName": "Antonio Moreno Taquería",
                  "ContactName": "Antonio Moreno",
                  "Country": "Mexico",
                  "_deepnote_index_column": 2
                },
                {
                  "CustomerID": "4",
                  "CustomerName": "Around the Horn",
                  "ContactName": "Thomas Hardy",
                  "Country": "UK",
                  "_deepnote_index_column": 3
                },
                {
                  "CustomerID": "5",
                  "CustomerName": "Berglunds snabbköp",
                  "ContactName": "Christina Berglund",
                  "Country": "Sweden",
                  "_deepnote_index_column": 4
                }
              ],
              "type": "query_preview"
            },
            "text/plain": "  CustomerID                        CustomerName         ContactName  Country\n0          1                 Alfreds Futterkiste        Maria Anders  Germany\n1          2  Ana Trujillo Emparedados y helados        Ana Trujillo   Mexico\n2          3             Antonio Moreno Taquería      Antonio Moreno   Mexico\n3          4                     Around the Horn        Thomas Hardy       UK\n4          5                  Berglunds snabbköp  Christina Berglund   Sweden",
            "text/html": "<div>\n<style scoped>\n    .dataframe tbody tr th:only-of-type {\n        vertical-align: middle;\n    }\n\n    .dataframe tbody tr th {\n        vertical-align: top;\n    }\n\n    .dataframe thead th {\n        text-align: right;\n    }\n</style>\n<table border=\"1\" class=\"dataframe\">\n  <thead>\n    <tr style=\"text-align: right;\">\n      <th></th>\n      <th>CustomerID</th>\n      <th>CustomerName</th>\n      <th>ContactName</th>\n      <th>Country</th>\n    </tr>\n  </thead>\n  <tbody>\n    <tr>\n      <th>0</th>\n      <td>1</td>\n      <td>Alfreds Futterkiste</td>\n      <td>Maria Anders</td>\n      <td>Germany</td>\n    </tr>\n    <tr>\n      <th>1</th>\n      <td>2</td>\n      <td>Ana Trujillo Emparedados y helados</td>\n      <td>Ana Trujillo</td>\n      <td>Mexico</td>\n    </tr>\n    <tr>\n      <th>2</th>\n      <td>3</td>\n      <td>Antonio Moreno Taquería</td>\n      <td>Antonio Moreno</td>\n      <td>Mexico</td>\n    </tr>\n    <tr>\n      <th>3</th>\n      <td>4</td>\n      <td>Around the Horn</td>\n      <td>Thomas Hardy</td>\n      <td>UK</td>\n    </tr>\n    <tr>\n      <th>4</th>\n      <td>5</td>\n      <td>Berglunds snabbköp</td>\n      <td>Christina Berglund</td>\n      <td>Sweden</td>\n    </tr>\n  </tbody>\n</table>\n</div>"
          },
          "metadata": {}
        }
      ],
      "outputs_reference": null,
      "content_dependencies": null
    },
    {
      "cell_type": "markdown",
      "source": "<a style='text-decoration:none;line-height:16px;display:flex;color:#5B5B62;padding:10px;justify-content:end;' href='https://deepnote.com?utm_source=created-in-deepnote-cell&projectId=360ce8b9-ca56-4969-a7c6-2b4d3b309009' target=\"_blank\">\n<img alt='Created in deepnote.com' style='display:inline;max-height:16px;margin:0px;margin-right:7.5px;' src='data:image/svg+xml;base64,PD94bWwgdmVyc2lvbj0iMS4wIiBlbmNvZGluZz0iVVRGLTgiPz4KPHN2ZyB3aWR0aD0iODBweCIgaGVpZ2h0PSI4MHB4IiB2aWV3Qm94PSIwIDAgODAgODAiIHZlcnNpb249IjEuMSIgeG1sbnM9Imh0dHA6Ly93d3cudzMub3JnLzIwMDAvc3ZnIiB4bWxuczp4bGluaz0iaHR0cDovL3d3dy53My5vcmcvMTk5OS94bGluayI+CiAgICA8IS0tIEdlbmVyYXRvcjogU2tldGNoIDU0LjEgKDc2NDkwKSAtIGh0dHBzOi8vc2tldGNoYXBwLmNvbSAtLT4KICAgIDx0aXRsZT5Hcm91cCAzPC90aXRsZT4KICAgIDxkZXNjPkNyZWF0ZWQgd2l0aCBTa2V0Y2guPC9kZXNjPgogICAgPGcgaWQ9IkxhbmRpbmciIHN0cm9rZT0ibm9uZSIgc3Ryb2tlLXdpZHRoPSIxIiBmaWxsPSJub25lIiBmaWxsLXJ1bGU9ImV2ZW5vZGQiPgogICAgICAgIDxnIGlkPSJBcnRib2FyZCIgdHJhbnNmb3JtPSJ0cmFuc2xhdGUoLTEyMzUuMDAwMDAwLCAtNzkuMDAwMDAwKSI+CiAgICAgICAgICAgIDxnIGlkPSJHcm91cC0zIiB0cmFuc2Zvcm09InRyYW5zbGF0ZSgxMjM1LjAwMDAwMCwgNzkuMDAwMDAwKSI+CiAgICAgICAgICAgICAgICA8cG9seWdvbiBpZD0iUGF0aC0yMCIgZmlsbD0iIzAyNjVCNCIgcG9pbnRzPSIyLjM3NjIzNzYyIDgwIDM4LjA0NzY2NjcgODAgNTcuODIxNzgyMiA3My44MDU3NTkyIDU3LjgyMTc4MjIgMzIuNzU5MjczOSAzOS4xNDAyMjc4IDMxLjY4MzE2ODMiPjwvcG9seWdvbj4KICAgICAgICAgICAgICAgIDxwYXRoIGQ9Ik0zNS4wMDc3MTgsODAgQzQyLjkwNjIwMDcsNzYuNDU0OTM1OCA0Ny41NjQ5MTY3LDcxLjU0MjI2NzEgNDguOTgzODY2LDY1LjI2MTk5MzkgQzUxLjExMjI4OTksNTUuODQxNTg0MiA0MS42NzcxNzk1LDQ5LjIxMjIyODQgMjUuNjIzOTg0Niw0OS4yMTIyMjg0IEMyNS40ODQ5Mjg5LDQ5LjEyNjg0NDggMjkuODI2MTI5Niw0My4yODM4MjQ4IDM4LjY0NzU4NjksMzEuNjgzMTY4MyBMNzIuODcxMjg3MSwzMi41NTQ0MjUgTDY1LjI4MDk3Myw2Ny42NzYzNDIxIEw1MS4xMTIyODk5LDc3LjM3NjE0NCBMMzUuMDA3NzE4LDgwIFoiIGlkPSJQYXRoLTIyIiBmaWxsPSIjMDAyODY4Ij48L3BhdGg+CiAgICAgICAgICAgICAgICA8cGF0aCBkPSJNMCwzNy43MzA0NDA1IEwyNy4xMTQ1MzcsMC4yNTcxMTE0MzYgQzYyLjM3MTUxMjMsLTEuOTkwNzE3MDEgODAsMTAuNTAwMzkyNyA4MCwzNy43MzA0NDA1IEM4MCw2NC45NjA0ODgyIDY0Ljc3NjUwMzgsNzkuMDUwMzQxNCAzNC4zMjk1MTEzLDgwIEM0Ny4wNTUzNDg5LDc3LjU2NzA4MDggNTMuNDE4MjY3Nyw3MC4zMTM2MTAzIDUzLjQxODI2NzcsNTguMjM5NTg4NSBDNTMuNDE4MjY3Nyw0MC4xMjg1NTU3IDM2LjMwMzk1NDQsMzcuNzMwNDQwNSAyNS4yMjc0MTcsMzcuNzMwNDQwNSBDMTcuODQzMDU4NiwzNy43MzA0NDA1IDkuNDMzOTE5NjYsMzcuNzMwNDQwNSAwLDM3LjczMDQ0MDUgWiIgaWQ9IlBhdGgtMTkiIGZpbGw9IiMzNzkzRUYiPjwvcGF0aD4KICAgICAgICAgICAgPC9nPgogICAgICAgIDwvZz4KICAgIDwvZz4KPC9zdmc+' > </img>\nCreated in <span style='font-weight:600;margin-left:4px;'>Deepnote</span></a>",
      "metadata": {
        "created_in_deepnote_cell": true,
        "deepnote_cell_type": "markdown"
      }
    }
  ],
  "nbformat": 4,
  "nbformat_minor": 0,
  "metadata": {
    "deepnote_notebook_id": "d9845a4214274d309b5107c7f6258773"
  }
}